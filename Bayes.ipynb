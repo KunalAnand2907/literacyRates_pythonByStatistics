{
 "cells": [
  {
   "cell_type": "markdown",
   "metadata": {},
   "source": [
    "# Bayes Theorem"
   ]
  },
  {
   "cell_type": "code",
   "execution_count": 9,
   "metadata": {},
   "outputs": [],
   "source": [
    "# format the book\n",
    "import sys\n",
    "sys.path.insert(0,'../LIBRARY')"
   ]
  },
  {
   "cell_type": "code",
   "execution_count": null,
   "metadata": {},
   "outputs": [],
   "source": [
    "import numpy as np\n",
    "import pandas as pd\n",
    "import LIBRARY.thinkbayes2.thinkbayes2"
   ]
  },
  {
   "cell_type": "code",
   "execution_count": null,
   "metadata": {},
   "outputs": [],
   "source": [
    "# Configure Jupyter to display the assigned value after an assignment\n",
    "%config InteractiveShell.ast_node_interactivity='last_expr_or_assign'"
   ]
  },
  {
   "cell_type": "markdown",
   "metadata": {},
   "source": [
    "# Conditional probability\n",
    "\n",
    "The fundamental idea behind all Bayesian statistics is Bayes’s theorem, which is surprisingly easy to derive, provided that you understand conditional probability. So we’ll start with probability, then conditional probability, then Bayes’s theorem, and on to Bayesian statistics.\n",
    "\n",
    "A probability is a number between 0 and 1 (including both) that represents a degree of belief in a fact or prediction. The value 1 represents certainty that a fact is true, or that a prediction will come true. The value 0 represents certainty that the fact is false."
   ]
  },
  {
   "cell_type": "markdown",
   "metadata": {},
   "source": [
    "# How to use bayes theoem\n",
    "At this point we have everything we need to derive Bayes’s theorem. We’ll start with the observation that conjunction is commutative; that is\n",
    "\n",
    "p(𝐴 and 𝐵)=p(𝐵 and 𝐴)\n",
    "for any events 𝐴 and 𝐵\n",
    "\n",
    ".\n",
    "\n",
    "Next, we write the probability of a conjunction:\n",
    "\n",
    "p(𝐴 and 𝐵)=p(𝐴) p(𝐵|𝐴)\n",
    "\n",
    "Since we have not said anything about what 𝐴\n",
    "and 𝐵\n",
    "\n",
    "mean, they are interchangeable. Interchanging them yields\n",
    "\n",
    "p(𝐵 and 𝐴)=p(𝐵) p(𝐴|𝐵)\n",
    "\n",
    "That’s all we need. Pulling those pieces together, we get\n",
    "\n",
    "p(𝐵) p(𝐴|𝐵)=p(𝐴) p(𝐵|𝐴)\n",
    "\n",
    "Which means there are two ways to compute the conjunction. If you have p(𝐴)\n",
    ", you multiply by the conditional probability p(𝐵|𝐴). Or you can do it the other way around; if you know p(𝐵), you multiply by p(𝐴|𝐵)\n",
    "\n",
    ". Either way you should get the same thing.\n",
    "\n",
    "Finally we can divide through by p(𝐵)\n",
    ":\n",
    "p(𝐴|𝐵)=p(𝐴) p(𝐵|𝐴)p(𝐵)"
   ]
  },
  {
   "cell_type": "markdown",
   "metadata": {},
   "source": [
    "# Solving a question:\n",
    "I’ll write 𝐵1 for the hypothesis that the literacy rate of all india  and 𝑉\n",
    "\n",
    "for average literacy rate level. Plugging in Bayes’s theorem we get\n",
    "\n",
    "p(𝐵1|𝑉)=p(𝐵1) p(𝑉|𝐵1)p(𝑉)\n",
    "\n",
    "The term on the left is what we want: the probability of all india, given that we choose the average literacy rate level. The terms on the right are:\n",
    "\n",
    "    p(𝐵1)\n",
    "\n",
    ": This is the probability that we chose all india, unconditioned by what kind of average literacy rate we got. Since the problem says we chose a state at random, we can assume p(𝐵1)=1/2\n",
    "\n",
    ".\n",
    "\n",
    "p(𝑉|𝐵1)\n",
    "\n",
    ": This is the probability of getting a vanilla cookie from Bowl 1, which is 3/4.\n",
    "\n",
    "p(𝑉)\n",
    ": This is the probability of drawing a vanilla cookie from either bowl. Since we had an equal chance of choosing either bowl and the bowls contain the same number of cookies, we had the same chance of choosing any cookie. Between the two bowls there are 50 vanilla and 30 chocolate cookies, so p(𝑉)\n",
    "\n",
    "    = 5/8.\n",
    "\n",
    "Putting it together, we have\n",
    "\n",
    "p(𝐵1|𝑉)=(1/2) (3/4)5/8\n",
    "\n",
    "which reduces to 3/5. So the vanilla cookie is evidence in favor of the hypothesis that we chose Bowl 1, because vanilla cookies are more likely to come from Bowl 1.\n",
    "\n",
    "This example demonstrates one use of Bayes’s theorem: it provides a strategy to get from p(𝐵|𝐴)\n",
    "to p(𝐴|𝐵). This strategy is useful in cases, like the cookie problem, where it is easier to compute the terms on the right side of Bayes’s theorem than the term on the left."
   ]
  },
  {
   "cell_type": "markdown",
   "metadata": {},
   "source": [
    "# Bayesian updates using the table method\n",
    "\n",
    "This notebook demonstrates a way of doing simple Bayesian updates using the table method, with a Pandas DataFrame as the table."
   ]
  },
  {
   "cell_type": "markdown",
   "metadata": {},
   "source": [
    "# The BayesTable class\n",
    "\n",
    "Here's the class that represents a Bayesian table."
   ]
  },
  {
   "cell_type": "code",
   "execution_count": 3,
   "metadata": {},
   "outputs": [],
   "source": [
    "class BayesTable(pd.DataFrame):\n",
    "    def __init__(self, hypothesis, prior=1):\n",
    "        columns = ['hypothesis', 'prior', 'likelihood', 'unnormalized', 'posterior']\n",
    "        super().__init__(columns=columns)\n",
    "        self.hypothesis = hypothesis\n",
    "        self.prior = prior\n",
    "    \n",
    "    def multiply(self):\n",
    "        self.unnormalized = self.prior * self.likelihood\n",
    "        \n",
    "    def normalize(self):\n",
    "        nc = np.sum(self.unnormalized)\n",
    "        self.posterior = self.unnormalized / nc\n",
    "        return nc\n",
    "    \n",
    "    def update(self):\n",
    "        self.multiply()\n",
    "        return self.normalize()\n",
    "    \n",
    "    def reset(self):\n",
    "        return BayesTable(self.hypothesis, self.posterior)"
   ]
  },
  {
   "cell_type": "code",
   "execution_count": 4,
   "metadata": {},
   "outputs": [
    {
     "data": {
      "text/html": [
       "<div>\n",
       "<style scoped>\n",
       "    .dataframe tbody tr th:only-of-type {\n",
       "        vertical-align: middle;\n",
       "    }\n",
       "\n",
       "    .dataframe tbody tr th {\n",
       "        vertical-align: top;\n",
       "    }\n",
       "\n",
       "    .dataframe thead th {\n",
       "        text-align: right;\n",
       "    }\n",
       "</style>\n",
       "<table border=\"1\" class=\"dataframe\">\n",
       "  <thead>\n",
       "    <tr style=\"text-align: right;\">\n",
       "      <th></th>\n",
       "      <th>hypothesis</th>\n",
       "      <th>prior</th>\n",
       "      <th>likelihood</th>\n",
       "      <th>unnormalized</th>\n",
       "      <th>posterior</th>\n",
       "    </tr>\n",
       "  </thead>\n",
       "  <tbody>\n",
       "    <tr>\n",
       "      <th>0</th>\n",
       "      <td>All India</td>\n",
       "      <td>1</td>\n",
       "      <td>NaN</td>\n",
       "      <td>NaN</td>\n",
       "      <td>NaN</td>\n",
       "    </tr>\n",
       "    <tr>\n",
       "      <th>1</th>\n",
       "      <td>Andhra Pradesh</td>\n",
       "      <td>1</td>\n",
       "      <td>NaN</td>\n",
       "      <td>NaN</td>\n",
       "      <td>NaN</td>\n",
       "    </tr>\n",
       "  </tbody>\n",
       "</table>\n",
       "</div>"
      ],
      "text/plain": [
       "       hypothesis  prior likelihood unnormalized posterior\n",
       "0       All India      1        NaN          NaN       NaN\n",
       "1  Andhra Pradesh      1        NaN          NaN       NaN"
      ]
     },
     "execution_count": 4,
     "metadata": {},
     "output_type": "execute_result"
    }
   ],
   "source": [
    "table = BayesTable(['All India', 'Andhra Pradesh'])\n",
    "table"
   ]
  },
  {
   "cell_type": "markdown",
   "metadata": {},
   "source": [
    "Since we didn't specify prior probabilities, the default value is equal priors for all hypotheses.\n",
    "\n",
    "Now we can specify the likelihoods:\n",
    "\n",
    "    The likelihood of getting a av rate level from ALL india is 1/2.\n",
    "\n",
    "    The likelihood of getting a av rate level  from Andhra Pradesh is 1/2.\n",
    "\n",
    "Here's how we plug the likelihoods in:\n"
   ]
  },
  {
   "cell_type": "code",
   "execution_count": 5,
   "metadata": {},
   "outputs": [
    {
     "data": {
      "text/html": [
       "<div>\n",
       "<style scoped>\n",
       "    .dataframe tbody tr th:only-of-type {\n",
       "        vertical-align: middle;\n",
       "    }\n",
       "\n",
       "    .dataframe tbody tr th {\n",
       "        vertical-align: top;\n",
       "    }\n",
       "\n",
       "    .dataframe thead th {\n",
       "        text-align: right;\n",
       "    }\n",
       "</style>\n",
       "<table border=\"1\" class=\"dataframe\">\n",
       "  <thead>\n",
       "    <tr style=\"text-align: right;\">\n",
       "      <th></th>\n",
       "      <th>hypothesis</th>\n",
       "      <th>prior</th>\n",
       "      <th>likelihood</th>\n",
       "      <th>unnormalized</th>\n",
       "      <th>posterior</th>\n",
       "    </tr>\n",
       "  </thead>\n",
       "  <tbody>\n",
       "    <tr>\n",
       "      <th>0</th>\n",
       "      <td>All India</td>\n",
       "      <td>1</td>\n",
       "      <td>0.5</td>\n",
       "      <td>NaN</td>\n",
       "      <td>NaN</td>\n",
       "    </tr>\n",
       "    <tr>\n",
       "      <th>1</th>\n",
       "      <td>Andhra Pradesh</td>\n",
       "      <td>1</td>\n",
       "      <td>0.5</td>\n",
       "      <td>NaN</td>\n",
       "      <td>NaN</td>\n",
       "    </tr>\n",
       "  </tbody>\n",
       "</table>\n",
       "</div>"
      ],
      "text/plain": [
       "       hypothesis  prior  likelihood unnormalized posterior\n",
       "0       All India      1         0.5          NaN       NaN\n",
       "1  Andhra Pradesh      1         0.5          NaN       NaN"
      ]
     },
     "execution_count": 5,
     "metadata": {},
     "output_type": "execute_result"
    }
   ],
   "source": [
    "table.likelihood = [1/2, 1/2]\n",
    "table"
   ]
  },
  {
   "cell_type": "code",
   "execution_count": 6,
   "metadata": {},
   "outputs": [
    {
     "data": {
      "text/html": [
       "<div>\n",
       "<style scoped>\n",
       "    .dataframe tbody tr th:only-of-type {\n",
       "        vertical-align: middle;\n",
       "    }\n",
       "\n",
       "    .dataframe tbody tr th {\n",
       "        vertical-align: top;\n",
       "    }\n",
       "\n",
       "    .dataframe thead th {\n",
       "        text-align: right;\n",
       "    }\n",
       "</style>\n",
       "<table border=\"1\" class=\"dataframe\">\n",
       "  <thead>\n",
       "    <tr style=\"text-align: right;\">\n",
       "      <th></th>\n",
       "      <th>hypothesis</th>\n",
       "      <th>prior</th>\n",
       "      <th>likelihood</th>\n",
       "      <th>unnormalized</th>\n",
       "      <th>posterior</th>\n",
       "    </tr>\n",
       "  </thead>\n",
       "  <tbody>\n",
       "    <tr>\n",
       "      <th>0</th>\n",
       "      <td>All India</td>\n",
       "      <td>1</td>\n",
       "      <td>0.5</td>\n",
       "      <td>0.5</td>\n",
       "      <td>NaN</td>\n",
       "    </tr>\n",
       "    <tr>\n",
       "      <th>1</th>\n",
       "      <td>Andhra Pradesh</td>\n",
       "      <td>1</td>\n",
       "      <td>0.5</td>\n",
       "      <td>0.5</td>\n",
       "      <td>NaN</td>\n",
       "    </tr>\n",
       "  </tbody>\n",
       "</table>\n",
       "</div>"
      ],
      "text/plain": [
       "       hypothesis  prior  likelihood  unnormalized posterior\n",
       "0       All India      1         0.5           0.5       NaN\n",
       "1  Andhra Pradesh      1         0.5           0.5       NaN"
      ]
     },
     "execution_count": 6,
     "metadata": {},
     "output_type": "execute_result"
    }
   ],
   "source": [
    "table.multiply()\n",
    "table"
   ]
  },
  {
   "cell_type": "code",
   "execution_count": 7,
   "metadata": {},
   "outputs": [
    {
     "data": {
      "text/plain": [
       "1.0"
      ]
     },
     "execution_count": 7,
     "metadata": {},
     "output_type": "execute_result"
    }
   ],
   "source": [
    "table.normalize()"
   ]
  },
  {
   "cell_type": "code",
   "execution_count": 8,
   "metadata": {},
   "outputs": [
    {
     "data": {
      "text/html": [
       "<div>\n",
       "<style scoped>\n",
       "    .dataframe tbody tr th:only-of-type {\n",
       "        vertical-align: middle;\n",
       "    }\n",
       "\n",
       "    .dataframe tbody tr th {\n",
       "        vertical-align: top;\n",
       "    }\n",
       "\n",
       "    .dataframe thead th {\n",
       "        text-align: right;\n",
       "    }\n",
       "</style>\n",
       "<table border=\"1\" class=\"dataframe\">\n",
       "  <thead>\n",
       "    <tr style=\"text-align: right;\">\n",
       "      <th></th>\n",
       "      <th>hypothesis</th>\n",
       "      <th>prior</th>\n",
       "      <th>likelihood</th>\n",
       "      <th>unnormalized</th>\n",
       "      <th>posterior</th>\n",
       "    </tr>\n",
       "  </thead>\n",
       "  <tbody>\n",
       "    <tr>\n",
       "      <th>0</th>\n",
       "      <td>All India</td>\n",
       "      <td>1</td>\n",
       "      <td>0.5</td>\n",
       "      <td>0.5</td>\n",
       "      <td>0.5</td>\n",
       "    </tr>\n",
       "    <tr>\n",
       "      <th>1</th>\n",
       "      <td>Andhra Pradesh</td>\n",
       "      <td>1</td>\n",
       "      <td>0.5</td>\n",
       "      <td>0.5</td>\n",
       "      <td>0.5</td>\n",
       "    </tr>\n",
       "  </tbody>\n",
       "</table>\n",
       "</div>"
      ],
      "text/plain": [
       "       hypothesis  prior  likelihood  unnormalized  posterior\n",
       "0       All India      1         0.5           0.5        0.5\n",
       "1  Andhra Pradesh      1         0.5           0.5        0.5"
      ]
     },
     "execution_count": 8,
     "metadata": {},
     "output_type": "execute_result"
    }
   ],
   "source": [
    "table"
   ]
  },
  {
   "cell_type": "markdown",
   "metadata": {},
   "source": [
    "We can read the posterior probabilities from the last column: the probability that you chose from all states given their rate level is  is 50%.\n"
   ]
  },
  {
   "cell_type": "code",
   "execution_count": null,
   "metadata": {},
   "outputs": [],
   "source": []
  }
 ],
 "metadata": {
  "kernelspec": {
   "display_name": "Python 3",
   "language": "python",
   "name": "python3"
  },
  "language_info": {
   "codemirror_mode": {
    "name": "ipython",
    "version": 3
   },
   "file_extension": ".py",
   "mimetype": "text/x-python",
   "name": "python",
   "nbconvert_exporter": "python",
   "pygments_lexer": "ipython3",
   "version": "3.7.3"
  }
 },
 "nbformat": 4,
 "nbformat_minor": 2
}

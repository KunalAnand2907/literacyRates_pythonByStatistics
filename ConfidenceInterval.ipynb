{
 "cells": [
  {
   "cell_type": "markdown",
   "metadata": {},
   "source": [
    "# Estimation population and samples"
   ]
  },
  {
   "cell_type": "markdown",
   "metadata": {},
   "source": [
    "If we want to tell what a population was like by just taking one sample is done by taking point estimators of statistics.\n",
    "POINT ESTIMATORS of a population parameter is some function or calculation that can be used to estimate the value of Population Parameter.\n",
    "point estimator of population mean,proportion is equal to their sample mean and proportion\n",
    "There are two ways of estimating population statistics:\n",
    "\n",
    "The first way of estimating population statistics is to use point estimators. Point estimators give you a way of estimating the precise value for the population statistics. It’s the best guess you can possibly make based on the sample data.\n",
    "\n",
    "You also know how to come up with confidence intervals for the population statistics. Rather than come up with a very precise estimate for the population statistics, you now know how to find a range of values for the population statistic that you can feel truly confident about."
   ]
  },
  {
   "cell_type": "markdown",
   "metadata": {},
   "source": [
    "# Confidence Interval(C.I)"
   ]
  },
  {
   "cell_type": "markdown",
   "metadata": {},
   "source": [
    "QUESTION: If we select 10 states literacy rates of india.Find the 95% confidence interval for population mean litercy rates of all states ofindia.\n",
    "assume the literacy rates are approximately normally distributed.    "
   ]
  },
  {
   "cell_type": "code",
   "execution_count": 1,
   "metadata": {},
   "outputs": [],
   "source": [
    "from scipy.stats import norm"
   ]
  },
  {
   "cell_type": "code",
   "execution_count": 2,
   "metadata": {},
   "outputs": [
    {
     "data": {
      "text/plain": [
       "(-1.959963984540054, 1.959963984540054)"
      ]
     },
     "execution_count": 2,
     "metadata": {},
     "output_type": "execute_result"
    }
   ],
   "source": [
    "norm.interval(alpha = 0.95, loc = 0, scale = 1)"
   ]
  },
  {
   "cell_type": "code",
   "execution_count": 3,
   "metadata": {},
   "outputs": [
    {
     "data": {
      "text/plain": [
       "1.959963984540054"
      ]
     },
     "execution_count": 3,
     "metadata": {},
     "output_type": "execute_result"
    }
   ],
   "source": [
    "norm.interval(alpha = 0.95)[1]"
   ]
  },
  {
   "cell_type": "markdown",
   "metadata": {},
   "source": [
    "# Step 1: Choose your population statistics"
   ]
  },
  {
   "cell_type": "markdown",
   "metadata": {},
   "source": [
    "The first step is to pick the statistic we want to construct a confidence interval for. We want to construct a confidence interval for the mean literacy rates of 5 states, so we need to construct a confidence interval for the population mean, μ."
   ]
  },
  {
   "cell_type": "code",
   "execution_count": 9,
   "metadata": {},
   "outputs": [],
   "source": [
    "import numpy as np\n",
    "import thinkplot\n",
    "import thinkstats2"
   ]
  },
  {
   "cell_type": "code",
   "execution_count": 10,
   "metadata": {},
   "outputs": [],
   "source": [
    "def SimulateSample(mu=0, sigma=1, n=10, iters=1000):\n",
    "    xbars = []\n",
    "    for _ in range(iters):\n",
    "        xs = np.random.normal(mu, sigma, n)\n",
    "        xbar = np.mean(xs)\n",
    "        xbars.append(xbar)\n",
    "    return xbars"
   ]
  },
  {
   "cell_type": "code",
   "execution_count": 14,
   "metadata": {},
   "outputs": [],
   "source": [
    "xbars = SimulateSample(mu=0.5, sigma=np.sqrt(0.09), n=10, iters=10000)"
   ]
  },
  {
   "cell_type": "code",
   "execution_count": 15,
   "metadata": {},
   "outputs": [
    {
     "data": {
      "image/png": "[encoded data removed]",
      "text/plain": [
       "<Figure size 432x288 with 1 Axes>"
      ]
     },
     "metadata": {
      "needs_background": "light"
     },
     "output_type": "display_data"
    }
   ],
   "source": [
    "cdf = thinkstats2.Cdf(xbars)\n",
    "thinkplot.Cdf(cdf)\n",
    "thinkplot.axvline(cdf.ConfidenceInterval(95)[0])\n",
    "thinkplot.axvline(cdf.ConfidenceInterval(95)[1])\n",
    "thinkplot.Config(xlabel='Sample mean',\n",
    "                 ylabel='CDF')"
   ]
  },
  {
   "cell_type": "code",
   "execution_count": 16,
   "metadata": {},
   "outputs": [
    {
     "data": {
      "text/plain": [
       "(0.3124558563960532, 0.6853788443318953)"
      ]
     },
     "execution_count": 16,
     "metadata": {},
     "output_type": "execute_result"
    }
   ],
   "source": [
    "cdf.ConfidenceInterval(95)"
   ]
  },
  {
   "cell_type": "markdown",
   "metadata": {},
   "source": [
    "# Step 2: Find the sampling Distribution"
   ]
  },
  {
   "cell_type": "markdown",
   "metadata": {},
   "source": [
    "𝑋¯\n",
    "follows the t-distribution when the sample is small\n",
    "\n",
    "The t-distribution is a probability distribution that specializes in exactly the sort of situation we have here. It’s the distribution that 𝑋¯\n",
    "follows where the population is normal, 𝜎2\n",
    "\n",
    "is unknown, and you only have a small sample at your disposal.\n",
    "\n",
    "The t-distribution looks like a smooth, symmetrical curve, and it’s exact shape depends on the size of the sample. When the sample size is large, it looks like the normal distribution, but when the sample size is small, the curve is flatter and has slightly fatter tails. It takes one parameter, 𝜈\n",
    ", where 𝜈 is equal to n – 1. n is the size of the sample, and 𝜈 is called the number of degrees of freedom."
   ]
  },
  {
   "cell_type": "markdown",
   "metadata": {},
   "source": [
    "Find the standard score for the t-distribution\n",
    "\n",
    "We calculate the standard score for the t-distribution in the same way we did for the normal distribution. As with the the normal distribution, we standardize by subtracting the expectation of the sampling distribution and then dividing by its standard deviation. The only difference is that we represent the result with T instead of Z, as we’re going to use it with the t-distribution.\n",
    "\n",
    "We need to find the distribution of 𝑋¯\n",
    ", so this means we need to use the expectation and standard deviation of 𝑋¯. The expectation of 𝑋¯\n",
    "\n",
    "is μ, and the standard deviation is σ/n. As we need to estimate the value of σ with s, this means that the standard score for the t-distribution is given by\n",
    "\n",
    "𝑇=𝑋¯−𝜇𝑠𝑛√\n",
    "\n",
    "All we need to do is substitute in the values for 𝑋¯\n",
    ", 𝜎̂ \n",
    "\n",
    ", and n.\n",
    "\n",
    "Let’s see if you can apply this to the literacy rate sample. There are 10 states literacy rates in the sample, where 𝑥¯\n",
    "= 0.5oz and 𝑠2 = 0.09. What’s the value of 𝜈\n",
    "\n",
    "and what’s T?\n",
    "\n",
    "There are 10 states in the sample, and 𝜈\n",
    "= n - 1. This means that the value of 𝜈\n",
    "\n",
    "is 9.\n",
    "\n",
    "T is given by\n",
    "\n",
    "𝑇=𝑋¯−𝜇𝑠𝑛√\n",
    "\n",
    "𝑇=𝑋¯−𝜇0.09/10√\n",
    "\n",
    "𝑇=𝑋¯−𝜇0.0949"
   ]
  },
  {
   "cell_type": "markdown",
   "metadata": {},
   "source": [
    "# Step 3:Decide on the level of Confidence"
   ]
  },
  {
   "cell_type": "markdown",
   "metadata": {},
   "source": [
    "The level of confidence says how sure you want to be that the confidence interval contains the population statistic, and it helps us figure out how wide the confidence interval needs to be. As before, let’s have a confidence level of 95% for the population mean. This means that the probability of the population mean being inside the confidence interval is 0.95.\n",
    "\n"
   ]
  },
  {
   "cell_type": "markdown",
   "metadata": {},
   "source": [
    "# Step 4: Find the confidence limits"
   ]
  },
  {
   "cell_type": "code",
   "execution_count": 17,
   "metadata": {},
   "outputs": [],
   "source": [
    "from scipy import stats"
   ]
  },
  {
   "cell_type": "markdown",
   "metadata": {},
   "source": [
    "by using t-Distribution tables"
   ]
  },
  {
   "cell_type": "code",
   "execution_count": 18,
   "metadata": {},
   "outputs": [
    {
     "data": {
      "text/plain": [
       "(0.29640585535331077, 0.7035941446466892)"
      ]
     },
     "execution_count": 18,
     "metadata": {},
     "output_type": "execute_result"
    }
   ],
   "source": [
    "# Population CI\n",
    "conf_int = stats.t.interval(0.95, loc=0.5, scale=0.09, df = 9)\n",
    "conf_int"
   ]
  }
 ],
 "metadata": {
  "kernelspec": {
   "display_name": "Python 3",
   "language": "python",
   "name": "python3"
  },
  "language_info": {
   "codemirror_mode": {
    "name": "ipython",
    "version": 3
   },
   "file_extension": ".py",
   "mimetype": "text/x-python",
   "name": "python",
   "nbconvert_exporter": "python",
   "pygments_lexer": "ipython3",
   "version": "3.7.3"
  }
 },
 "nbformat": 4,
 "nbformat_minor": 2
}
